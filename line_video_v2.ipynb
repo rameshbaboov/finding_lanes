{
 "cells": [
  {
   "cell_type": "code",
   "execution_count": 1,
   "metadata": {
    "collapsed": true
   },
   "outputs": [],
   "source": [
    "# Import required libraries\n",
    "import matplotlib.pyplot as plt\n",
    "import matplotlib.image as mpimg\n",
    "import numpy as np\n",
    "import cv2\n",
    "import math\n",
    "%matplotlib inline"
   ]
  },
  {
   "cell_type": "code",
   "execution_count": 2,
   "metadata": {
    "collapsed": true
   },
   "outputs": [],
   "source": [
    "# Import required libraries for video processing\n",
    "from moviepy.editor import VideoFileClip\n",
    "from IPython.display import HTML"
   ]
  },
  {
   "cell_type": "code",
   "execution_count": 3,
   "metadata": {
    "collapsed": true
   },
   "outputs": [],
   "source": [
    "# Pipeline\n",
    "# below routine converts image to greyscale\n",
    "def convert_to_greyscale(image):\n",
    "    return cv2.cvtColor(image,cv2.COLOR_BGR2GRAY)\n",
    "\n",
    "# Gaussian filtering\n",
    "def apply_Gauss(image):\n",
    "    Kernel_size = 3\n",
    "    return cv2.GaussianBlur(image,(Kernel_size,Kernel_size),0)\n",
    "\n",
    "#Apply CannY Edge detection\n",
    "def apply_canny(image):\n",
    "    low_threshold = 40\n",
    "    high_threshold = 150\n",
    "    return cv2.Canny(image, low_threshold, high_threshold)\n",
    "\n",
    "# Set region of Interest\n",
    "def set_ROI(image):\n",
    "    mask = np.zeros_like(image) \n",
    "    imshape = image.shape\n",
    "    x1 = 150\n",
    "    y1 = imshape[0]\n",
    "    x2 = int(imshape[1]*0.5)\n",
    "    y2 = int(imshape[0]*0.5)\n",
    "    x3 = int(imshape[1]*0.5)+10\n",
    "    y3 = int(imshape[0]*0.5)\n",
    "    x4 = imshape[1]-10\n",
    "    y4 = imshape[0]\n",
    "    \n",
    "    if len(image.shape) > 2:\n",
    "        channel_count = image.shape[2]  # i.e. 3 or 4 depending on your image\n",
    "         #   print (\"channel count is \", channel_count)\n",
    "        ignore_mask_color = (255,) * channel_count\n",
    "    else:\n",
    "        ignore_mask_color = 255\n",
    "         \n",
    "    imshape = image.shape\n",
    "    vertices = np.array([[(x1,y1),(x2,y2), (x3,y3),(x4,y4)]], dtype=np.int32)\n",
    "\n",
    "    cv2.fillPoly(mask, vertices, ignore_mask_color)\n",
    "    masked_edges = cv2.bitwise_and(image, mask)\n",
    "    return masked_edges;\n",
    "\n",
    "#Apply Hough Transformation\n",
    "def apply_hough_transformation(masked_edges,image,Y1,Y2,custom = False,smoothen=False):\n",
    "    rho = 2 # distance resolution in pixels of the Hough grid\n",
    "    theta = np.pi/180 # angular resolution in radians of the Hough grid\n",
    "    threshold = 40     # minimum number of votes (intersections in Hough grid cell) ' original 40\n",
    "    min_line_length = 100 #minimum number of pixels making up a line 'original 80\n",
    "    max_line_gap = 160    # maximum gap in pixels between connectable line segments 'original 10\n",
    "    line_image = np.zeros((*masked_edges.shape, 3), dtype=np.uint8)\n",
    "    \n",
    "    # Run Hough on edge detected image\n",
    "    # Output \"lines\" is an array containing endpoints of detected line segments\n",
    "    lines = cv2.HoughLinesP(masked_edges, rho, theta, threshold, np.array([]),min_line_length, max_line_gap)\n",
    "    draw_lines(line_image,lines,Y1,Y2,custom,smoothen)\n",
    "    return line_image\n",
    "\n",
    "# create a routine to process image from frame\n",
    "def process_image_master(image,custom = False,smoothen = False):\n",
    "    imshape = image.shape\n",
    "    Y1 = int(imshape[1]*0.7)\n",
    "    Y2 = int(imshape[0]*0.6)\n",
    "    gray = convert_to_greyscale(image)\n",
    "    blur_gray = apply_Gauss(gray)\n",
    "    edges = apply_canny(blur_gray)\n",
    "    masked_edges = set_ROI(edges)\n",
    "    hough_output = apply_hough_transformation(masked_edges,image,Y1,Y2,custom,smoothen)\n",
    "    new_masked_image = cv2.cvtColor(masked_edges,cv2.COLOR_GRAY2BGR)\n",
    "    line_edges = cv2.addWeighted(image, 0.8, hough_output, 1, 0) \n",
    "      \n",
    "    return line_edges \n",
    "\n",
    "# Draw Lines\n",
    "def draw_lines(line_image,lines, Y1, Y2, custom= False,smoothen= False):\n",
    "    #color=[255, 0, 0] \n",
    "    #thickness=2\n",
    "    #if lines is not None:\n",
    "    #    for line in lines:\n",
    "    #        for x1,y1,x2,y2 in line:\n",
    "    #            cv2.line(line_image, (x1, y1), (x2, y2), color, thickness)\n",
    "    #    return\n",
    "   # print(\"y1 and y2 are \", Y1,Y2)\n",
    "   # Left line\n",
    "    left_line = (0,0,0,0)\n",
    "    left_slope, left_line_max = 0.1,0\n",
    "    \n",
    "    # Right line\n",
    "    right_line = (0,0,0,0)\n",
    "    right_slope, right_line_max = -0.1, 0\n",
    "    \n",
    "    for line in lines:\n",
    "        for x1,y1,x2,y2 in line:\n",
    "            slope = ((y1-y2)/(x1-x2))\n",
    "            # length of the vector from the origin to point (x, y)\n",
    "            line_length = math.sqrt((x2-x1)**2 + (y2-y1)**2) # Euclidean method: sqrt(x*x + y*y)\n",
    "            \n",
    "        #Left lane should have +ve slope       \n",
    "        if(slope > 0):\n",
    "            if(line_length > left_line_max):\n",
    "                left_line = (x1,y1,x2,y2)\n",
    "                left_slope = slope\n",
    "                left_line_max = line_length\n",
    "                   \n",
    "        #Right lane should have -ve slope\n",
    "        elif(slope < 0):\n",
    "            if(line_length > right_line_max):\n",
    "                right_line = (x1,y1,x2,y2)\n",
    "                right_slope = slope\n",
    "                right_line_max = line_length\n",
    "    \n",
    "    # Computing Intercept for both lanes using Slope-intercept form:  c = -mx + y\n",
    "    left_intercept = -(left_slope * left_line[0]) + left_line[1] \n",
    "    right_intercept = -(right_slope * right_line[0]) + right_line[1]    \n",
    "\n",
    "    #Variables for a complete extrapolated line\n",
    "    #Y1 = 540\n",
    "    #Y2 = 330\n",
    "    \n",
    "    #Equation for extrapolated line\n",
    "    #x = (y - c) / m\n",
    "    LX1 = int((Y1 - left_intercept)/left_slope)\n",
    "    LX2 = int((Y2 - left_intercept)/left_slope)\n",
    "    RX1 = int((Y1 - right_intercept)/right_slope)\n",
    "    RX2 = int((Y2 - right_intercept)/right_slope)\n",
    "\n",
    "    cv2.line(line_image, (LX1,Y1), (LX2,Y2), [255,0,0], 8)\n",
    "    cv2.line(line_image, (RX1,Y1), (RX2,Y2), [255,0,0], 8)\n",
    " \n",
    "     \n",
    "\n"
   ]
  },
  {
   "cell_type": "raw",
   "metadata": {},
   "source": [
    "import os\n",
    "output_path = 'test_images/output_customized/'\n",
    "if not os.path.isdir(output_path):\n",
    "    os.mkdir(output_path)\n",
    "\n",
    "\n",
    "for x in os.listdir(\"test_images/\"):\n",
    "    input_path = \"test_images/\" + x\n",
    "    if os.path.isdir(input_path):\n",
    "        continue\n",
    "    image = mpimg.imread(input_path)\n",
    "    result = process_image_master(image)\n",
    "    "
   ]
  },
  {
   "cell_type": "code",
   "execution_count": 4,
   "metadata": {
    "collapsed": true
   },
   "outputs": [],
   "source": [
    "import os\n",
    "output_path = 'test_images/output_customized/'\n",
    "if not os.path.isdir(output_path):\n",
    "    os.mkdir(output_path)\n",
    "\n",
    "\n",
    "for x in os.listdir(\"test_images/\"):\n",
    "    input_path = \"test_images/\" + x\n",
    "    if os.path.isdir(input_path):\n",
    "        continue\n",
    "    image = mpimg.imread(input_path)\n",
    "    result = process_image_master(image, custom = True)"
   ]
  },
  {
   "cell_type": "code",
   "execution_count": 5,
   "metadata": {
    "collapsed": true
   },
   "outputs": [],
   "source": [
    "    # process video by converting them into frames and process using process_image_master\n",
    "    def process_video(vd_video,testmode):\n",
    "        final_output = \"output-\" + vd_video\n",
    "        unprocessed_clip = VideoFileClip(vd_video)\n",
    "        unprocessed_clip.save_frame(\"firstimage\" + vd_video + \".jpeg\")\n",
    "        firstimage = mpimg.imread(\"firstimage\" + vd_video + \".jpeg\")\n",
    "        imshape = firstimage.shape\n",
    "        print(\"video size is - \", imshape[1],imshape[0])\n",
    "        color=[255, 0, 0] \n",
    "        thickness=2\n",
    "        x1 = 150\n",
    "        y1 = imshape[0]\n",
    "        x2 = int(imshape[1]*0.5)\n",
    "        y2 = int(imshape[0]*0.5)\n",
    "        x3 = int(imshape[1]*0.5)+10\n",
    "        y3 = int(imshape[0]*0.5)\n",
    "        x4 = imshape[1]-10\n",
    "        y4 = imshape[0]\n",
    "        cv2.line(firstimage,(x1,y1),(x2,y2),color,thickness)\n",
    "        cv2.line(firstimage,(x2,y2),(x3,y3),color,thickness)\n",
    "        cv2.line(firstimage,(x3,y3),(x4,y4),color,thickness)\n",
    "        cv2.line(firstimage,(x1,y1),(x4,y4),color,thickness)\n",
    "        vertices = np.array([[(x1,y1),(x2,y2), (x3,y3),(x4,y4)]], dtype=np.int32)\n",
    "        if testmode == True:\n",
    "            plt.imshow(firstimage)\n",
    "            plt.show()\n",
    "        else:\n",
    "            print(\"verticies are \", vertices)\n",
    "            processed_clip = unprocessed_clip.fl_image(process_image_master)\n",
    "            %time processed_clip.write_videofile(final_output,audio=False)\n",
    "    "
   ]
  },
  {
   "cell_type": "code",
   "execution_count": 6,
   "metadata": {},
   "outputs": [
    {
     "name": "stdout",
     "output_type": "stream",
     "text": [
      "video size is -  1280 720\n",
      "verticies are  [[[ 150  720]\n",
      "  [ 640  360]\n",
      "  [ 650  360]\n",
      "  [1270  720]]]\n",
      "[MoviePy] >>>> Building video output-challenge.mp4\n",
      "[MoviePy] Writing video output-challenge.mp4\n"
     ]
    },
    {
     "name": "stderr",
     "output_type": "stream",
     "text": [
      "100%|██████████| 251/251 [03:38<00:00,  1.04it/s]\n"
     ]
    },
    {
     "name": "stdout",
     "output_type": "stream",
     "text": [
      "[MoviePy] Done.\n",
      "[MoviePy] >>>> Video ready: output-challenge.mp4 \n",
      "\n",
      "CPU times: user 29.7 s, sys: 1.22 s, total: 30.9 s\n",
      "Wall time: 4min 2s\n",
      "video size is -  960 540\n",
      "verticies are  [[[150 540]\n",
      "  [480 270]\n",
      "  [490 270]\n",
      "  [950 540]]]\n",
      "[MoviePy] >>>> Building video output-solidWhiteRight.mp4\n",
      "[MoviePy] Writing video output-solidWhiteRight.mp4\n"
     ]
    },
    {
     "name": "stderr",
     "output_type": "stream",
     "text": [
      "100%|█████████▉| 221/222 [01:38<00:00,  2.48it/s]\n"
     ]
    },
    {
     "name": "stdout",
     "output_type": "stream",
     "text": [
      "[MoviePy] Done.\n",
      "[MoviePy] >>>> Video ready: output-solidWhiteRight.mp4 \n",
      "\n",
      "CPU times: user 14.7 s, sys: 670 ms, total: 15.4 s\n",
      "Wall time: 1min 48s\n",
      "video size is -  960 540\n",
      "verticies are  [[[150 540]\n",
      "  [480 270]\n",
      "  [490 270]\n",
      "  [950 540]]]\n",
      "[MoviePy] >>>> Building video output-solidYellowLeft.mp4\n",
      "[MoviePy] Writing video output-solidYellowLeft.mp4\n"
     ]
    },
    {
     "name": "stderr",
     "output_type": "stream",
     "text": [
      "100%|█████████▉| 681/682 [04:18<00:00,  3.89it/s]\n"
     ]
    },
    {
     "name": "stdout",
     "output_type": "stream",
     "text": [
      "[MoviePy] Done.\n",
      "[MoviePy] >>>> Video ready: output-solidYellowLeft.mp4 \n",
      "\n",
      "CPU times: user 35.4 s, sys: 2.3 s, total: 37.7 s\n",
      "Wall time: 4min 26s\n"
     ]
    }
   ],
   "source": [
    "process_video(\"challenge.mp4\", False)\n",
    "process_video(\"solidWhiteRight.mp4\", False)\n",
    "process_video(\"solidYellowLeft.mp4\", False)"
   ]
  },
  {
   "cell_type": "code",
   "execution_count": null,
   "metadata": {
    "collapsed": true
   },
   "outputs": [],
   "source": []
  },
  {
   "cell_type": "code",
   "execution_count": null,
   "metadata": {
    "collapsed": true
   },
   "outputs": [],
   "source": []
  }
 ],
 "metadata": {
  "kernelspec": {
   "display_name": "Python 3",
   "language": "python",
   "name": "python3"
  },
  "language_info": {
   "codemirror_mode": {
    "name": "ipython",
    "version": 3
   },
   "file_extension": ".py",
   "mimetype": "text/x-python",
   "name": "python",
   "nbconvert_exporter": "python",
   "pygments_lexer": "ipython3",
   "version": "3.5.2"
  },
  "widgets": {
   "state": {},
   "version": "1.1.2"
  }
 },
 "nbformat": 4,
 "nbformat_minor": 2
}
